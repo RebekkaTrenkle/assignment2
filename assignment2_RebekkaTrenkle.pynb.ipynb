{
  "cells": [
    {
      "metadata": {
        "trusted": true
      },
      "cell_type": "code",
      "source": "\n\n# define the function called frequent_words using the R function \"function\"\n# https://www.rdocumentation.org/packages/base/versions/3.3.0/topics/function\n# function input: text: The string in which the frequent pattern is searched; \n# k: the length of the pattern we search for\n# the function frequent_words returns the sequence of the most frequent patterns\n# in the input string \"text\"\n\nfrequent_words = function(text,k){\n  frequent_patterns <- {}\n  # creates an empty list named frequent_patterns\n  count <-{}\n  # creates an empty list named count\n  for (i in 0:(nchar(text) -k)){\n    # The for-loop iterates from zero to the length of the string \n    # called \"text\" minus the length of the pattern k  \n    # the function nchar determines the length of its argument \n    #  (a character vector, here: \"text)  \n    # https://www.rdocumentation.org/packages/base/versions/3.6.0/topics/nchar\n  pattern <- substr(text, i + 1, i + k)\n  # creates the variable called pattern that holds the current pattern as a string\n  # the function substr extracts a substring from a character vector\n  # (here \"text\") and assigns it to pattern. It takes the substring from text, \n  # starting at the (i+1)th character (according to the current iteration of the loop)\n  # and ending at the (i+k)th character, thus creating a new string with k characters\n  # that represent the current pattern\n  # https://www.rdocumentation.org/packages/base/versions/3.6.0/topics/substr\n  count[i + 1] <-pattern_count(text, pattern)\n  # the list count is altered: the (i+1)th entry (i according to the loop) of\n  # count is replaced by the output of the function \"pattern_count\" (which is\n  # defined below) after it was executed with the inputs \"text\" and \"pattern\"\n  }\n  max_count = max(count)\n  # create the variable max_count that holds the maximum value of count\n  # using the R function max that returns the maximal value of a vector\n  # https://www.rdocumentation.org/packages/whitebox/versions/0.1.0/topics/max\n  for (i in 0:(nchar(text) -k)) {\n    # for-loop that iterates from zero to the length of text minus k\n    if (count[i + 1] == max_count)\n      # if statement: if the entry of count at the position i+1 is the \n      # maximal count do the following:\n      frequent_patterns <- append(frequent_patterns, substr(text, i + 1, i + k))\n    # add the sequence of the current pattern (created by the substring beginning\n    # at position i+1 and ending at position i+k of the string \"text\") to the list\n    # called frequent_patterns (which is thereby modified) using the function append\n    # https://www.rdocumentation.org/packages/base/versions/3.6.0/topics/append\n  }\n  return(unique(frequent_patterns))\n  # return statement of the function frequent_words:\n  # the function executed on the input parameters \"text\" and \"k\" gives as output\n  # the most frequent patterns of the length k within the string \"text\"\n  # the sequences of the most frequent patterns are stored in the list frequent_patterns\n  # the function unique returns the entries of the list once, avoiding duplicates\n  # https://www.rdocumentation.org/packages/base/versions/3.6.0/topics/unique\n}\n\n\n# the function pattern_count searches for the number of times a given pattern\n# (stored in the variable \"pattern\") occurs in the string \"text\"\n\npattern_count <-function(text, pattern) {\n  # creates the function pattern_count that takes the \n  # input parameters \"text\" and \"pattern\"\n  count <-0\n  # creates the variable called count and assigns it to zero\n  pattern_length <-nchar(pattern)\n  # creates the variable pattern_length and assigns it the length of string \"pattern\"\n  # using the nchar function (link see above)\n  for (i in 0:(nchar(text) -pattern_length)) {\n    # for-loop that iterates from zero to the length of the string \"text\" minus\n    # the length of the pattern pattern_length\n    if (substr(rep(text), i + 1, i + pattern_length) == pattern)\n      # if statement: if the substring created (by the function substr) \n      # from a replicate of the string \"text\" (using the function rep)\n      # is equal to the pattern that was used as input for the function\n      # increase count by 1\n      # https://www.rdocumentation.org/packages/base/versions/3.6.0/topics/rep\n      count <-count + 1}\n  return(count)\n  # returns the value of count\n}\n\n# execute the function frequent_words with the input parameters of the \n# sample dataset from Roaslind\ntext = 'ACGTTGCATGTCGCATGATGCATGAGAGCT'\nk = 4\nfrequent_words(text,k)\n\n# execute the function frequent_words with the input parameters of the \n# extra dataset from Roaslind\n\ntext_extra = 'CGGAAGCGAGATTCGCGTGGCGTGATTCCGGCGGGCGTGGAGAAG\nCGAGATTCATTCAAGCCGGGAGGCGTGGCGTGGCGTGGCGTGCGGATTCAAGCCGGCGG\nGCGTGATTCGAGCGGCGGATTCGAGATTCCGGGCGTGCGGGCGTGAAGCGCGTGGAGGA\nGGCGTGGCGTGCGGGAGGAGAAGCGAGAAGCCGGATTCAAGCAAGCATTCCGGCGGGAG\nATTCGCGTGGAGGCGTGGAGGCGTGGAGGCGTGCGGCGGGAGATTCAAGCCGGATTCGC\nGTGGAGAAGCGAGAAGCGCGTGCGGAAGCGAGGAGGAGAAGCATTCGCGTGATTCCGGG\nAGATTCAAGCATTCGCGTGCGGCGGGAGATTCAAGCGAGGAGGCGTGAAGCAAGCAAGC\nAAGCGCGTGGCGTGCGGCGGGAGAAGCAAGCGCGTGATTCGAGCGGGCGTGCGGAAGCGAGCGG'\nk_extra = 12\nfrequent_words(text_extra, k_extra)\n",
      "execution_count": 2,
      "outputs": [
        {
          "output_type": "display_data",
          "data": {
            "text/plain": "[1] \"GCAT\" \"CATG\"",
            "text/latex": "\\begin{enumerate*}\n\\item 'GCAT'\n\\item 'CATG'\n\\end{enumerate*}\n",
            "text/markdown": "1. 'GCAT'\n2. 'CATG'\n\n\n",
            "text/html": "<ol class=list-inline>\n\t<li>'GCAT'</li>\n\t<li>'CATG'</li>\n</ol>\n"
          },
          "metadata": {}
        },
        {
          "output_type": "display_data",
          "data": {
            "text/plain": "[1] \"GCGTGGCGTGCG\" \"CGTGGCGTGCGG\" \"GCGTGGAGGCGT\" \"CGTGGAGGCGTG\" \"GCGTGCGGCGGG\"\n[6] \"CGTGCGGCGGGA\" \"GTGCGGCGGGAG\" \"TGCGGCGGGAGA\"",
            "text/latex": "\\begin{enumerate*}\n\\item 'GCGTGGCGTGCG'\n\\item 'CGTGGCGTGCGG'\n\\item 'GCGTGGAGGCGT'\n\\item 'CGTGGAGGCGTG'\n\\item 'GCGTGCGGCGGG'\n\\item 'CGTGCGGCGGGA'\n\\item 'GTGCGGCGGGAG'\n\\item 'TGCGGCGGGAGA'\n\\end{enumerate*}\n",
            "text/markdown": "1. 'GCGTGGCGTGCG'\n2. 'CGTGGCGTGCGG'\n3. 'GCGTGGAGGCGT'\n4. 'CGTGGAGGCGTG'\n5. 'GCGTGCGGCGGG'\n6. 'CGTGCGGCGGGA'\n7. 'GTGCGGCGGGAG'\n8. 'TGCGGCGGGAGA'\n\n\n",
            "text/html": "<ol class=list-inline>\n\t<li>'GCGTGGCGTGCG'</li>\n\t<li>'CGTGGCGTGCGG'</li>\n\t<li>'GCGTGGAGGCGT'</li>\n\t<li>'CGTGGAGGCGTG'</li>\n\t<li>'GCGTGCGGCGGG'</li>\n\t<li>'CGTGCGGCGGGA'</li>\n\t<li>'GTGCGGCGGGAG'</li>\n\t<li>'TGCGGCGGGAGA'</li>\n</ol>\n"
          },
          "metadata": {}
        }
      ]
    },
    {
      "metadata": {
        "trusted": true
      },
      "cell_type": "code",
      "source": "# execute the function frequent_words with the input parameters of the \n# sample dataset from Roaslind\ntext = 'ACGTTGCATGTCGCATGATGCATGAGAGCT'\nk = 4\nfrequent_words(text,k)",
      "execution_count": 3,
      "outputs": [
        {
          "output_type": "display_data",
          "data": {
            "text/plain": "[1] \"GCAT\" \"CATG\"",
            "text/latex": "\\begin{enumerate*}\n\\item 'GCAT'\n\\item 'CATG'\n\\end{enumerate*}\n",
            "text/markdown": "1. 'GCAT'\n2. 'CATG'\n\n\n",
            "text/html": "<ol class=list-inline>\n\t<li>'GCAT'</li>\n\t<li>'CATG'</li>\n</ol>\n"
          },
          "metadata": {}
        }
      ]
    },
    {
      "metadata": {
        "trusted": true
      },
      "cell_type": "code",
      "source": "# execute the function frequent_words with the input parameters of the \n# extra dataset from Roaslind\n\ntext_extra = 'CGGAAGCGAGATTCGCGTGGCGTGATTCCGGCGGGCGTGGAGAAG\nCGAGATTCATTCAAGCCGGGAGGCGTGGCGTGGCGTGGCGTGCGGATTCAAGCCGGCGG\nGCGTGATTCGAGCGGCGGATTCGAGATTCCGGGCGTGCGGGCGTGAAGCGCGTGGAGGA\nGGCGTGGCGTGCGGGAGGAGAAGCGAGAAGCCGGATTCAAGCAAGCATTCCGGCGGGAG\nATTCGCGTGGAGGCGTGGAGGCGTGGAGGCGTGCGGCGGGAGATTCAAGCCGGATTCGC\nGTGGAGAAGCGAGAAGCGCGTGCGGAAGCGAGGAGGAGAAGCATTCGCGTGATTCCGGG\nAGATTCAAGCATTCGCGTGCGGCGGGAGATTCAAGCGAGGAGGCGTGAAGCAAGCAAGC\nAAGCGCGTGGCGTGCGGCGGGAGAAGCAAGCGCGTGATTCGAGCGGGCGTGCGGAAGCGAGCGG'\nk_extra = 12\nfrequent_words(text_extra, k_extra)",
      "execution_count": 4,
      "outputs": [
        {
          "output_type": "display_data",
          "data": {
            "text/plain": "[1] \"GCGTGGCGTGCG\" \"CGTGGCGTGCGG\" \"GCGTGGAGGCGT\" \"CGTGGAGGCGTG\" \"GCGTGCGGCGGG\"\n[6] \"CGTGCGGCGGGA\" \"GTGCGGCGGGAG\" \"TGCGGCGGGAGA\"",
            "text/latex": "\\begin{enumerate*}\n\\item 'GCGTGGCGTGCG'\n\\item 'CGTGGCGTGCGG'\n\\item 'GCGTGGAGGCGT'\n\\item 'CGTGGAGGCGTG'\n\\item 'GCGTGCGGCGGG'\n\\item 'CGTGCGGCGGGA'\n\\item 'GTGCGGCGGGAG'\n\\item 'TGCGGCGGGAGA'\n\\end{enumerate*}\n",
            "text/markdown": "1. 'GCGTGGCGTGCG'\n2. 'CGTGGCGTGCGG'\n3. 'GCGTGGAGGCGT'\n4. 'CGTGGAGGCGTG'\n5. 'GCGTGCGGCGGG'\n6. 'CGTGCGGCGGGA'\n7. 'GTGCGGCGGGAG'\n8. 'TGCGGCGGGAGA'\n\n\n",
            "text/html": "<ol class=list-inline>\n\t<li>'GCGTGGCGTGCG'</li>\n\t<li>'CGTGGCGTGCGG'</li>\n\t<li>'GCGTGGAGGCGT'</li>\n\t<li>'CGTGGAGGCGTG'</li>\n\t<li>'GCGTGCGGCGGG'</li>\n\t<li>'CGTGCGGCGGGA'</li>\n\t<li>'GTGCGGCGGGAG'</li>\n\t<li>'TGCGGCGGGAGA'</li>\n</ol>\n"
          },
          "metadata": {}
        }
      ]
    },
    {
      "metadata": {
        "trusted": true
      },
      "cell_type": "code",
      "source": "",
      "execution_count": null,
      "outputs": []
    }
  ],
  "metadata": {
    "kernelspec": {
      "name": "r",
      "display_name": "R",
      "language": "R"
    },
    "language_info": {
      "mimetype": "text/x-r-source",
      "name": "R",
      "pygments_lexer": "r",
      "version": "3.4.1",
      "file_extension": ".r",
      "codemirror_mode": "r"
    }
  },
  "nbformat": 4,
  "nbformat_minor": 2
}